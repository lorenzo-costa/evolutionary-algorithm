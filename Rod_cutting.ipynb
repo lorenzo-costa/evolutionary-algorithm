{
 "cells": [
  {
   "cell_type": "markdown",
   "id": "f928f6ae",
   "metadata": {},
   "source": [
    "# Rod cutting with GA"
   ]
  },
  {
   "cell_type": "markdown",
   "id": "fe627b62",
   "metadata": {},
   "source": [
    "Evolutionary Algorithms have a wide range of applications. One case in which they can be applied quite successfully is to solve optimization problems.\\\n",
    "In optimization problems, the objective is to find the input that produces a desired output given a known model. The search space consists of all possible inputs for the model. EAs provide a framework for exploring and evolving solutions within this search space."
   ]
  },
  {
   "cell_type": "markdown",
   "id": "27a6dc3a",
   "metadata": {},
   "source": [
    "The rod cutting problem is a well-known optimization problem. In this problem, we have a rod of length n and a table that specifies the price or value of selling different lengths of the rod. The goal is to find the optimal way to cut the rod into smaller pieces to maximize the total value obtained. The key constraint is that the rod can only be cut (and subsequently sold) at integer positions, meaning that the resulting pieces must have integer lengths.\n",
    "\n",
    "This problem can be framed as a constrained optimization and the search space, comprising all possible compositions of n, has size $2^{n-1}$."
   ]
  },
  {
   "cell_type": "markdown",
   "id": "e34d44a2",
   "metadata": {},
   "source": [
    "Rod cutting can also be seen as a variant of the knapsack problem, specifically the unbounded knapsack problem since items can be taken more than once. In this case, the length of the rod corresponds to the capacity of the knapsack and the available cutting options correspond to the items that can be placed into the knapsack.\n",
    "\n",
    "Despite having a search space size that is exponential in the number of instances, this problem exhibits optimal substructure and overlapping subproblems. This makes it solvable in polynomial time using dynamic programming (not an NP-problem).\n",
    "Nonetheless, it can still serve as a valuable example to illustrate how EAs can be applied to solve optimization problems."
   ]
  },
  {
   "cell_type": "markdown",
   "id": "4a89ec7c",
   "metadata": {},
   "source": [
    "For instance, in the following example, we have a rod of length 8 and the maximum revenue that we can get is 22 by splitting the rod into a piece of length 2 and a piece of length 6."
   ]
  },
  {
   "cell_type": "code",
   "execution_count": 1,
   "id": "6cfc6b93",
   "metadata": {},
   "outputs": [
    {
     "data": {
      "text/plain": [
       "22"
      ]
     },
     "execution_count": 1,
     "metadata": {},
     "output_type": "execute_result"
    }
   ],
   "source": [
    "table = {1:1, 2:5, 3:8, 4:9, 5:10, 6:17, 7:17, 8:20}\n",
    "table[2]+table[6]"
   ]
  },
  {
   "cell_type": "code",
   "execution_count": 2,
   "id": "7a1dc6e6",
   "metadata": {},
   "outputs": [],
   "source": [
    "import numpy as np\n",
    "from copy import deepcopy\n",
    "import random\n",
    "np.random.seed(42)"
   ]
  },
  {
   "cell_type": "markdown",
   "id": "b842d96e",
   "metadata": {},
   "source": [
    "### Representation"
   ]
  },
  {
   "cell_type": "markdown",
   "id": "badf5de0",
   "metadata": {},
   "source": [
    "The first step when designing an evolutionary algorithm is to define the representation.\n",
    "\n",
    "Defining the phenotype of individuals as the way in which a rod is split (e.g., one piece of length 2 and one of length 3), there are two possible representations for the genotype:\n",
    "- Binary representation\n",
    "- Integer representation"
   ]
  },
  {
   "cell_type": "markdown",
   "id": "cba7c22d",
   "metadata": {},
   "source": [
    "#### Binary representation "
   ]
  },
  {
   "cell_type": "markdown",
   "id": "53e23b9c",
   "metadata": {},
   "source": [
    "A possible way to represent an individual is as a list of binary numbers of length n. In this representation, each element i is zero if there is no cut at position i, and one if we cut the rod at position i.\n",
    "\n",
    "The fitness function is computed by iterating over the list and summing the values of pieces of different lengths."
   ]
  },
  {
   "cell_type": "code",
   "execution_count": 3,
   "id": "1d6947a0",
   "metadata": {},
   "outputs": [],
   "source": [
    "class Rod_1:\n",
    "    def __init__(self, l, table, init = ''):\n",
    "        self.l = l\n",
    "        self.rod = np.zeros(l-1, dtype = int)\n",
    "        self.F = fitness_1(self, table)\n",
    "        if init == 'random':\n",
    "            self.random_init()\n",
    "    def __repr__(self):\n",
    "        s = ''\n",
    "        for i in range(self.l-1):\n",
    "            s += '[]'\n",
    "            if self.rod[i] != 0:\n",
    "                s += ' \\ '\n",
    "        s += '[]'\n",
    "        return s\n",
    "    \n",
    "    def __eq__(self, other):\n",
    "        return np.all(self.rod == other.rod)\n",
    "    \n",
    "    def random_init(self):\n",
    "        n = np.random.randint(len(self.rod))\n",
    "        i = np.random.randint(len(self.rod), size = n)\n",
    "        self.rod[i] = 1\n",
    "\n",
    "def fitness_1(ind, table):\n",
    "    count = 1\n",
    "    value = 0\n",
    "    for i in ind.rod:\n",
    "        if i == 1:\n",
    "            value += table[count]\n",
    "            count = 0\n",
    "        count += 1\n",
    "    \n",
    "    value += table[count]\n",
    "    return value"
   ]
  },
  {
   "cell_type": "code",
   "execution_count": 4,
   "id": "e2094014",
   "metadata": {},
   "outputs": [
    {
     "name": "stdout",
     "output_type": "stream",
     "text": [
      "[][] \\ [][][][][][] [0 1 0 0 0 0 0]\n",
      "fitness: 22\n"
     ]
    }
   ],
   "source": [
    "ind = Rod_1(8, table)\n",
    "ind.rod[1] = 1\n",
    "print(ind, ind.rod)\n",
    "print('fitness:', fitness_1(ind, table))"
   ]
  },
  {
   "cell_type": "markdown",
   "id": "68476d93",
   "metadata": {},
   "source": [
    "#### Integer representation"
   ]
  },
  {
   "cell_type": "markdown",
   "id": "e07dc179",
   "metadata": {},
   "source": [
    "Another possible representation is a list of integers defining the length of each piece.\n",
    "\n",
    "The fitness function is again computed by iterating over the list and summing the value of each piece."
   ]
  },
  {
   "cell_type": "code",
   "execution_count": 5,
   "id": "51c03ce7",
   "metadata": {},
   "outputs": [],
   "source": [
    "class Rod_2:\n",
    "    def __init__(self, l, table, init = ''):\n",
    "        self.l = l\n",
    "        self.rod = [l]\n",
    "        self.F = fitness_2(self, table)\n",
    "        if init == 'random':\n",
    "            self.random_init()\n",
    "    \n",
    "    def __repr__(self):\n",
    "        s = ''\n",
    "        for i in self.rod:\n",
    "            s += ('[]'*i)\n",
    "            s += ' \\ '\n",
    "        return s\n",
    "    \n",
    "    def __eq__(self, other):\n",
    "        return self.rod == other.rod\n",
    "    \n",
    "    def random_init(self):\n",
    "        new_rod = []\n",
    "        c = np.random.randint(1, self.l)\n",
    "        n = self.l\n",
    "        tot = 0\n",
    "\n",
    "        for _ in range(c):\n",
    "            value = np.random.randint(0, n - tot)\n",
    "            new_rod.append(value)\n",
    "            tot += value\n",
    "\n",
    "        new_rod.append(n-tot)\n",
    "        random.shuffle(new_rod)\n",
    "        self.rod = [x for x in new_rod if x != 0]\n",
    "\n",
    "def fitness_2(ind, table):\n",
    "    rod = ind.rod\n",
    "    value = 0\n",
    "    for i in rod:\n",
    "        value += table[i]\n",
    "    return value"
   ]
  },
  {
   "cell_type": "code",
   "execution_count": 6,
   "id": "e745e33a",
   "metadata": {},
   "outputs": [
    {
     "name": "stdout",
     "output_type": "stream",
     "text": [
      "[][] \\ [][][][][][] \\  [2, 6]\n",
      "fitness: 22\n"
     ]
    }
   ],
   "source": [
    "ind_2 = Rod_2(8, table)\n",
    "ind_2.rod = [2,6]\n",
    "print(ind_2, ind_2.rod)\n",
    "print('fitness:', fitness_2(ind_2, table))"
   ]
  },
  {
   "cell_type": "markdown",
   "id": "716d5e9a",
   "metadata": {},
   "source": [
    "### Variation operators"
   ]
  },
  {
   "cell_type": "markdown",
   "id": "bb55412f",
   "metadata": {},
   "source": [
    "The next step is to define variation operators. These mechanisms allow the population to change over time and explore the search space.\n",
    "\n",
    "There are two main types of variation operators: mutation and recombination."
   ]
  },
  {
   "cell_type": "markdown",
   "id": "d4ebafeb",
   "metadata": {},
   "source": [
    "#### Mutation"
   ]
  },
  {
   "cell_type": "markdown",
   "id": "bfef07f1",
   "metadata": {},
   "source": [
    "Mutation is a unary operator, meaning it involves only one individual at a time, and it creates small random changes. Since it  changes one or more genes randomly, it can introduce new information into the genetic pool. Generally, the individuals change only slightly (although this may not be true for all representations), allowing for a finer search of the space.\n",
    "\n",
    "The implementation of mutation depends on the chosen representation. For example, in the binary representation, mutation can be a simple bit-flipping operation where each gene is flipped with a probability of mr (mutation rate)."
   ]
  },
  {
   "cell_type": "code",
   "execution_count": 7,
   "id": "e427cc67",
   "metadata": {},
   "outputs": [],
   "source": [
    "def simple_mutation_1(ind, mr):\n",
    "    rod = ind.rod\n",
    "    if np.random.rand() < mr:\n",
    "        index = np.random.randint(ind.l-1)\n",
    "        val = rod[index]\n",
    "        if val == 0:\n",
    "            rod[index] = 1\n",
    "        if val == 1:\n",
    "            rod[index] = 0"
   ]
  },
  {
   "cell_type": "markdown",
   "id": "d727fcf0",
   "metadata": {},
   "source": [
    "In the integer representation, mutation needs to be defined differently. Since we have a constraint on the length of the rod, we can implement mutation by either splitting one piece into two smaller ones or merging two pieces.\n",
    "\n",
    "In this case, we also need a repair method (which will be useful for recombination as well) to ensure that the list sums up to n, satisfying the length constraint."
   ]
  },
  {
   "cell_type": "code",
   "execution_count": 8,
   "id": "4d3ce784",
   "metadata": {},
   "outputs": [],
   "source": [
    "def simple_mutation_2(ind, mr):\n",
    "    rod = ind.rod\n",
    "    if np.random.rand() < mr:\n",
    "        if np.random.rand()<0.5: #split one piece\n",
    "            i = np.random.randint(len(rod))\n",
    "            val = rod[i]\n",
    "            new_val1 = np.random.randint(1, val+1)\n",
    "            new_val2 = val - new_val1\n",
    "            if new_val2 != 0:\n",
    "                rod.append(new_val1)\n",
    "                rod.append(new_val2)\n",
    "                rod.sort()\n",
    "        else: #merge two pieces\n",
    "            if len(rod) != 1:\n",
    "                i = np.random.randint(len(rod))\n",
    "                j = i\n",
    "                while i == j:\n",
    "                    j = np.random.randint(len(rod))\n",
    "                new_val = rod[i] + rod[j]\n",
    "                if i > j:\n",
    "                    del rod[i] \n",
    "                    del rod[j]\n",
    "                else:\n",
    "                    del rod[j]\n",
    "                    del rod[i]\n",
    "                rod.append(new_val)\n",
    "                rod.sort()\n",
    "        repair_2(ind)\n",
    "\n",
    "def repair_2(ind):\n",
    "    rod = ind.rod\n",
    "    while sum(rod) > ind.l:\n",
    "        i = np.random.randint(len(ind.rod))\n",
    "        rod[i] -= 1\n",
    "        if rod[i] == 0:\n",
    "            del rod[i]\n",
    "        \n",
    "    while sum(rod) < ind.l:\n",
    "        i = np.random.randint(len(rod))\n",
    "        rod[i] += 1"
   ]
  },
  {
   "cell_type": "markdown",
   "id": "78e105e3",
   "metadata": {},
   "source": [
    "#### Recombination"
   ]
  },
  {
   "cell_type": "markdown",
   "id": "c8b2e828",
   "metadata": {},
   "source": [
    "The other variation operator is recombination. Recombination can have an arity greater than or equal to two, meaning that the genetic material of two or more individuals is combined to create new offspring.\n",
    "\n",
    "When the arity is equal to two, recombination is also called crossover. The simplest form of crossover is one-point crossover. For a chromosome of length n, 1-point crossover works by:\n",
    "- choosing a random point in the interval [2, n-1]\n",
    "- splitting the chromosomes of the two parents at that point.\n",
    "- generatin new offspring by exchanging the two tails.\n",
    "\n",
    "As for mutation the implementation of recombination differs for different representations. Additionally, for binary representation, besides simple one-point crossover, we can also implement:\n",
    "\n",
    "- N-point crossover: n crossover points are chosen at random, the chromosomes are split along those points and offspring are created by joining parts, alternating between parents (In the following code only 2-point crossover is implemented.)\n",
    "- Uniform crossover: for each gene, the first child has a uniform probability of inheriting from the first or the second parent. The second child is then generated by taking the inverse of the first.\n",
    "\n",
    "Note that the crossover functions work only for individuals having a length of at least 4. However, this is not a significant restriction, as for rods of length smaller than 4, the result can be found easily by hand."
   ]
  },
  {
   "cell_type": "code",
   "execution_count": 9,
   "id": "20fae299",
   "metadata": {},
   "outputs": [],
   "source": [
    "def simple_mutation_1(ind, mr):\n",
    "    rod = ind.rod\n",
    "    if np.random.rand() < mr:\n",
    "        index = np.random.randint(ind.l-1)\n",
    "        val = rod[index]\n",
    "        if val == 0:\n",
    "            rod[index] = 1\n",
    "        if val == 1:\n",
    "            rod[index] = 0\n",
    "    \n",
    "def one_point_crossover_1(p1, p2, cr):\n",
    "    c1, c2 = deepcopy(p1), deepcopy(p2)\n",
    "        \n",
    "    if np.random.rand() < cr:\n",
    "        pt = np.random.randint(1, p1.l-3)\n",
    "        c1.rod = np.concatenate((p1.rod[:pt], p2.rod[pt:]))\n",
    "        c2.rod = np.concatenate((p2.rod[:pt], p1.rod[pt:]))\n",
    "    return c1, c2\n",
    "\n",
    "def two_point_crossover_1(p1, p2, cr):\n",
    "    c1, c2 = deepcopy(p1), deepcopy(p2)\n",
    "    \n",
    "    if np.random.rand() < cr:\n",
    "        pt = np.random.choice(np.arange(1, p1.l-3), size=2, replace=False)\n",
    "        pt = np.sort(pt)\n",
    "        c1.rod = np.concatenate((p1.rod[:pt[0]], \n",
    "                                 p2.rod[pt[0]:pt[1]],\n",
    "                                 p1.rod[pt[1]:]))\n",
    "        \n",
    "        c2.rod = np.concatenate((p2.rod[:pt[0]], \n",
    "                                 p1.rod[pt[0]:pt[1]],\n",
    "                                 p2.rod[pt[1]:]))\n",
    "    return c1, c2\n",
    "\n",
    "def uniform_crossover(p1, p2, cr):\n",
    "    c1, c2 = deepcopy(p1), deepcopy(p2)\n",
    "    \n",
    "    if np.random.rand() < cr:\n",
    "        for i in range(p1.l-1):\n",
    "            if np.random.rand() < 0.5:\n",
    "                c1.rod[i] = p1.rod[i]\n",
    "                c2.rod[i] = ~c1.rod[i]\n",
    "            else: \n",
    "                c1.rod[i] = p2.rod[i]\n",
    "                c2.rod[i] = ~c1.rod[i]\n",
    "    return c1, c2 "
   ]
  },
  {
   "cell_type": "markdown",
   "id": "c05457f0",
   "metadata": {},
   "source": [
    "The code for the integer representation is very similar to the binary representation, with the only difference being that we need to call the repair method after generating the children to ensure that the sum of the list is equal to n. \n",
    "\n",
    "By calling the repair method, we can handle cases where the recombination or crossover might have resulted in invalid rod lengths."
   ]
  },
  {
   "cell_type": "code",
   "execution_count": 10,
   "id": "df882ff3",
   "metadata": {},
   "outputs": [],
   "source": [
    "def one_point_crossover_2(p1, p2, cr):\n",
    "    c1, c2 = deepcopy(p1), deepcopy(p2)\n",
    "    \n",
    "    if np.random.rand() < cr: \n",
    "        pt1 = np.random.randint(len(p1.rod))\n",
    "        pt2 = np.random.randint(len(p2.rod))\n",
    "            \n",
    "        c1.rod = (p1.rod[:pt1]+p2.rod[pt2:]) \n",
    "        c2.rod = (p2.rod[:pt2]+p1.rod[pt1:])\n",
    "    \n",
    "        repair_2(c1)\n",
    "        repair_2(c2)\n",
    "    return c1, c2"
   ]
  },
  {
   "cell_type": "markdown",
   "id": "b681e456",
   "metadata": {},
   "source": [
    "### Selection"
   ]
  },
  {
   "cell_type": "markdown",
   "id": "b50a532e",
   "metadata": {},
   "source": [
    "The first step in defining selection is choosing the population management model. Throughout the following code, the chosen model is the generational model, where the entire population is replaced at each generation. Each individual survives for exactly one generation. This approach is combined with elitism, which involves keeping a copy of the best individual found so far to ensure that very good solutions are not lost.\n",
    "\n",
    "The next step is defining parent selection, which determines how individuals are chosen for reproduction. Two common ways to choose parents are:\n",
    "- Roulette wheel selection: this mechanism mimics the concept of a roulette wheel, where the probability of selecting an individual is proportional to its fitness value. Intuitively, it works by spinning the arm of a roulette wheel, where the size of the segments on the wheel corresponds to the fitness of each individual.\n",
    "\n",
    "- Tournament selection: here k individuals are randomly selected from the population to participate in a tournament. These individuals then compete against each other, through a fitness comparison, to determine the fittest individual among them. The fittest individual is then chosen as a parent for reproduction, passing on its genetic material to the next generation. The advantages of tournament selection are that it does not need to knowledge of whole population and the selection pressure can be adjusted by changing the parameter k (larger tournament make it more difficult for individuals with low fitness to be selected for reproduction) \n",
    "\n",
    "These selection methods play a crucial role in evolutionary algorithms as they determine the individuals that will contribute their genetic material to the next generation"
   ]
  },
  {
   "cell_type": "code",
   "execution_count": 11,
   "id": "b4e46e6b",
   "metadata": {},
   "outputs": [],
   "source": [
    "def roulette_wheel_selection(pop):\n",
    "    population_score = np.sum([s.F for s in pop])\n",
    "    probabilities = [s.F/population_score for s in pop]\n",
    "    selected = np.random.choice(pop, p=probabilities)\n",
    "\n",
    "    return selected\n",
    "\n",
    "def tournament_selection(pop, k):\n",
    "    selected = np.random.choice(pop)\n",
    "    for s in np.random.choice(pop, k-1):\n",
    "        if s.F > selected.F:\n",
    "            selected = s\n",
    "    return selected"
   ]
  },
  {
   "cell_type": "markdown",
   "id": "07165db1",
   "metadata": {},
   "source": [
    "### Algorithm"
   ]
  },
  {
   "cell_type": "markdown",
   "id": "726d29e8",
   "metadata": {},
   "source": [
    "We can now proceed to set up the algorithm that will solve the problem. The function takes the following parameters:\n",
    "- table: A table of prices used to compute the revenue.\n",
    "- rep: Determines which of the two representations should be used.\n",
    "- fitness_function: The fitness function that evaluates the individuals.\n",
    "- selection: The selection mechanism to be used, such as roulette wheel or tournament selection.\n",
    "- crossover: The crossover mechanism for combining genetic material.\n",
    "- mutation: The mutation mechanism for introducing random changes.\n",
    "- init: Specifies whether individuals should be initialized randomly or not. The option 'nrandom' indicates not random initialization.\n",
    "- n_generations: The number of generations the algorithm will run.\n",
    "- n_individuals: The number of individuals in each generation.\n",
    "- mr: The mutation rate, which represents the probability of having a mutation.\n",
    "- cr: The crossover rate, which represents the probability of having a crossover.\n",
    "- k: The number of individuals that compete in a tournament (if selection is tournament selection).\n",
    "\n",
    "In addition to the best individual and its fitness, the algorithm also returns the generation in which the best individual was found. Furthermore, it provides a dictionary containing the diversity throughout the generations. Diversity is measured by taking the unique elements of the population, where diversity equal to 1 indicates that all individuals are the same.\n",
    "\n",
    "Since the algorithm is stochastic, an additional function called trials is used to run the algorithm multiple times and evaluate the results. This helps to account for the randomness inherent in the algorithm and obtain a more reliable assessment of its performance."
   ]
  },
  {
   "cell_type": "code",
   "execution_count": 12,
   "id": "340aba85",
   "metadata": {},
   "outputs": [],
   "source": [
    "def run(table, rep, function, selection, crossover, mutation, init,\n",
    "           n_generations=10, n_individuals=10, mr=0.05, cr=0.2, k=2):\n",
    "    pop = []\n",
    "    l = len(table)\n",
    "    for _ in range(n_individuals):\n",
    "        s = rep(l, table, init)\n",
    "        pop.append(s)\n",
    "\n",
    "    best, best_score = pop[0], pop[0].F\n",
    "    gen_opt = 0\n",
    "    diversity = {}\n",
    "    for gen in range(n_generations): \n",
    "        count = 0\n",
    "        for s in pop:\n",
    "            s.F = function(s, table)\n",
    "            if s.F > best_score:\n",
    "                best = s\n",
    "                best_score = s.F  \n",
    "                gen_opt = gen\n",
    "            \n",
    "            if selection is tournament_selection:\n",
    "                selected = [selection(pop, k) for _ in range(n_individuals)]\n",
    "            else: \n",
    "                selected = [selection(pop) for _ in range(n_individuals)]\n",
    "            children = []\n",
    "            for i in range(0, n_individuals, 2):\n",
    "                p1, p2 = selected[i], selected[i+1]\n",
    "                c1, c2 = crossover(p1, p2, cr)\n",
    "            \n",
    "                mutation(c1, mr)\n",
    "                mutation(c2, mr)\n",
    "                \n",
    "                children.append(c1)\n",
    "                children.append(c2)\n",
    "            \n",
    "                pop = children[:]\n",
    "            \n",
    "            for s in pop:\n",
    "                s.F = function(s, table)\n",
    "\n",
    "                if s.F > best_score:\n",
    "                    best = s\n",
    "                    best_score = s.F\n",
    "                    gen_opt = gen\n",
    "        count = []\n",
    "        for x in pop:\n",
    "            if x not in count:\n",
    "                count.append(x)\n",
    "        diversity[gen] = len(count)\n",
    "    return best, best.F, gen_opt, diversity\n",
    "\n",
    "def trial(nruns, table, rep, function, selection, mutation, crossover, init,\n",
    "          n_generations=10, n_individuals=10, mr=0.05, cr=0.1, k=3):\n",
    "    res, res_fit, gen, div = [], [], [], []\n",
    "    for i in range(nruns):\n",
    "        a, b, c, d= run(table, rep, function, selection, crossover, mutation, init,\n",
    "                      n_generations, n_individuals, mr, cr, k)\n",
    "        res.append(a)\n",
    "        res_fit.append(b)\n",
    "        gen.append(c)\n",
    "        div.append(d)\n",
    "    return res, res_fit, gen, div"
   ]
  },
  {
   "cell_type": "code",
   "execution_count": 13,
   "id": "00d33301",
   "metadata": {},
   "outputs": [
    {
     "name": "stdout",
     "output_type": "stream",
     "text": [
      "Results: [22, 22, 22, 22, 22, 22, 22, 22]\n",
      "Results: [22, 22, 22, 22, 22, 22, 22, 22]\n"
     ]
    }
   ],
   "source": [
    "nruns = 8\n",
    "res1, res1_fit, gen1, div1= trial(nruns,\n",
    "                           table = table, \n",
    "                           rep = Rod_1, \n",
    "                           function = fitness_1, \n",
    "                           selection = tournament_selection,\n",
    "                           mutation = simple_mutation_1, \n",
    "                           crossover= one_point_crossover_1,\n",
    "                           init = 'nrandom')\n",
    "res2, res2_fit, gen2, div2 = trial(nruns,\n",
    "                           table = table, \n",
    "                           rep = Rod_2, \n",
    "                           function = fitness_2, \n",
    "                           selection = tournament_selection,\n",
    "                           mutation = simple_mutation_2, \n",
    "                           crossover= one_point_crossover_2,\n",
    "                           init = 'nrandom')\n",
    "\n",
    "print('Results:', res1_fit)\n",
    "print('Results:', res2_fit)"
   ]
  },
  {
   "cell_type": "markdown",
   "id": "71638d83",
   "metadata": {},
   "source": [
    "Given that this problem can be solved efficiently with dynamic programming, we can compare the results of the algorithm to the global optimal solution. \n",
    "\n",
    "The result is that for this very simple problem, both choices of parameters have a 100% success rate."
   ]
  },
  {
   "cell_type": "code",
   "execution_count": 14,
   "id": "89308634",
   "metadata": {},
   "outputs": [
    {
     "name": "stdout",
     "output_type": "stream",
     "text": [
      "Maximum obtained value is 22\n",
      "Optimal split is [2, 6]\n"
     ]
    }
   ],
   "source": [
    "def rod_cutting(n, prices):\n",
    "    dp = [0] * (n + 1)\n",
    "    cuts = []\n",
    "\n",
    "    for i in range(1, n + 1):\n",
    "        max_value = float('-inf')\n",
    "        cut = None\n",
    "\n",
    "        for j in range(1, i + 1):\n",
    "            if prices[j] + dp[i - j] > max_value:\n",
    "                max_value = prices[j] + dp[i - j]\n",
    "                cut = j\n",
    "\n",
    "        dp[i] = max_value\n",
    "        cuts.append(cut)\n",
    "\n",
    "    optimal_cuts = []\n",
    "    while n > 0:\n",
    "        cut = cuts[n - 1]\n",
    "        optimal_cuts.append(cut)\n",
    "        n -= cut\n",
    "\n",
    "    return dp[-1], optimal_cuts\n",
    "\n",
    "prices = list(table.values())\n",
    "prices_2 = np.array([0] + prices)\n",
    "n = len(prices)\n",
    "rod_cut = rod_cutting(n, prices_2)\n",
    "print(\"Maximum obtained value is\", rod_cut[0])\n",
    "print('Optimal split is', rod_cut[1])"
   ]
  },
  {
   "cell_type": "markdown",
   "id": "de64d56a",
   "metadata": {},
   "source": [
    "We can also test this approach on different and more complex problem instances.\n",
    "\n",
    "For instance, we can generate a table of prices where each piece of length i has a value of i. Then, with probability increasing in the length, the value of each piece is randomly changed to an integer slightly higher than i.\n",
    "The range of the new value is chosen to be larger as i increases. This approach is used because the impact of increasing the value by one unit is higher for smaller i values. For example, if a value of 1 is changed to 4, the optimal cut would almost certainly be to keep all pieces as 1. On the other hand, if a value of 30 is changed to 34, the impact may be much smaller and we avoid a bias toward smaller pieces."
   ]
  },
  {
   "cell_type": "code",
   "execution_count": 15,
   "id": "d88682af",
   "metadata": {},
   "outputs": [
    {
     "name": "stdout",
     "output_type": "stream",
     "text": [
      "{1: 1, 2: 2, 3: 3, 4: 4, 5: 6, 6: 6, 7: 7, 8: 8, 9: 10, 10: 10, 11: 11, 12: 14, 13: 15, 14: 14, 15: 16, 16: 17, 17: 18, 18: 20, 19: 19, 20: 22, 21: 21, 22: 22, 23: 23, 24: 26, 25: 25, 26: 28, 27: 29, 28: 30, 29: 30}\n"
     ]
    }
   ],
   "source": [
    "table_2 = {}\n",
    "for i in range(1, 30):\n",
    "    table_2[i] = i\n",
    "    if np.random.rand()<(0.1*i):\n",
    "        table_2[i] = np.random.randint(i, np.round(i+np.log(i+1)))\n",
    "\n",
    "print(table_2)"
   ]
  },
  {
   "cell_type": "code",
   "execution_count": 16,
   "id": "ce1057ef",
   "metadata": {},
   "outputs": [
    {
     "name": "stdout",
     "output_type": "stream",
     "text": [
      "Results: [33, 33, 33, 33]\n",
      "Results: [33, 33, 32, 33]\n",
      "Maximum obtained value is 34\n",
      "Optimal split is [1, 1, 1, 1, 5, 5, 5, 5, 5]\n"
     ]
    }
   ],
   "source": [
    "nruns = 4\n",
    "res12, res12_fit, gen12, div12= trial(nruns,\n",
    "                           table = table_2, \n",
    "                           rep = Rod_1, \n",
    "                           function = fitness_1, \n",
    "                           selection = tournament_selection,\n",
    "                           mutation = simple_mutation_1, \n",
    "                           crossover= one_point_crossover_1,\n",
    "                           init = 'nrandom')\n",
    "\n",
    "res22, res22_fit, gen22, div22= trial(nruns,\n",
    "                           table = table_2, \n",
    "                           rep = Rod_2, \n",
    "                           function = fitness_2, \n",
    "                           selection = tournament_selection,\n",
    "                           mutation = simple_mutation_2, \n",
    "                           crossover= one_point_crossover_2,\n",
    "                           init = 'nrandom')\n",
    "\n",
    "print('Results:', res12_fit)\n",
    "print('Results:', res22_fit)\n",
    "\n",
    "prices = list(table_2.values())\n",
    "prices_2 = np.array([0] + prices)\n",
    "n = len(prices)\n",
    "rod_cut = rod_cutting(n, prices_2)\n",
    "print(\"Maximum obtained value is\", rod_cut[0])\n",
    "print('Optimal split is', rod_cut[1])\n"
   ]
  },
  {
   "cell_type": "markdown",
   "id": "40b28775",
   "metadata": {},
   "source": [
    "Using these parameters, both representations get stuck in a local optimum with a revenue equal to 33. Since the goal of the problem is to find the optimal solution rather than settling for \"good enough\" solutions we need to explore different parameter settings.\n",
    "\n",
    "For instance we can:\n",
    "- test different crossover mechanism such as uniform or 2-point crossover to explore fitness landscape in different ways\n",
    "- increase the crossover and mutation rate to allow the algorithm to explore the solution space more extensively and increase the chances of finding the global optimum\n",
    "- change the selection mechanism or change the size of the tournament to increase/decrease the selection pressure"
   ]
  },
  {
   "cell_type": "code",
   "execution_count": 17,
   "id": "26c2a1b4",
   "metadata": {},
   "outputs": [
    {
     "name": "stdout",
     "output_type": "stream",
     "text": [
      "Results: [33, 33, 32, 31, 32, 33, 33, 31, 33, 33] found in generations: [7, 1, 1, 0, 4, 0, 1, 0, 1, 0]\n",
      "Results: [33, 33, 32, 33, 33, 33, 33, 33, 33, 32] found in generations: [0, 1, 0, 1, 0, 0, 1, 0, 1, 0]\n",
      "Results: [34, 33, 34, 34, 34, 34, 34, 34, 33, 34] found in generations: [7, 1, 5, 1, 2, 6, 3, 5, 3, 2]\n"
     ]
    }
   ],
   "source": [
    "nruns = 10\n",
    "res13, res13_fit, gen13, div13 = trial(nruns,\n",
    "                                    table = table_2, \n",
    "                                    rep = Rod_1, \n",
    "                                    function = fitness_1, \n",
    "                                    selection = tournament_selection,\n",
    "                                    mutation = simple_mutation_1, \n",
    "                                    crossover= uniform_crossover,\n",
    "                                    init = 'random', \n",
    "                                    k = 4,\n",
    "                                    mr = 0.05,\n",
    "                                    cr = 0.2)\n",
    "\n",
    "res23, res23_fit, gen23, div23= trial(nruns,\n",
    "                                    table = table_2, \n",
    "                                    rep = Rod_1, \n",
    "                                    function = fitness_1, \n",
    "                                    selection = roulette_wheel_selection,\n",
    "                                    mutation = simple_mutation_1, \n",
    "                                    crossover= two_point_crossover_1,\n",
    "                                    init = 'nrandom', \n",
    "                                    mr = 0.4,\n",
    "                                    cr = 0.5)\n",
    "\n",
    "res33, res33_fit, gen33, div33 = trial(nruns,\n",
    "                                    table = table_2, \n",
    "                                    rep = Rod_2, \n",
    "                                    function = fitness_2, \n",
    "                                    selection = tournament_selection,\n",
    "                                    mutation = simple_mutation_2, \n",
    "                                    crossover= one_point_crossover_2,\n",
    "                                    init = 'nrandom',\n",
    "                                    k = 4,\n",
    "                                    mr = 0.3,\n",
    "                                    cr = 0.5)\n",
    "\n",
    "print('Results:', res13_fit, 'found in generations:', gen13)\n",
    "print('Results:', res23_fit, 'found in generations:', gen23)\n",
    "print('Results:', res33_fit, 'found in generations:', gen33)"
   ]
  },
  {
   "cell_type": "markdown",
   "id": "ccac869f",
   "metadata": {},
   "source": [
    "After trying some combination of parameters (only some of them shown above) the result obtained is that the best representation is a list of integers, the best selecion mechanism is tournament selection with an higher selection pressure (k=4 rathern than k=2) and it is beneficial to increase both the crossover rate (from 0.2 to 0.5) and the mutation rate (from 0.1 to 0.3).\n",
    "\n",
    "It is worth noting that the algorithm using roulette wheel selection immediately gets stuck in a local optimum. This is due to the fact that only parents with high fitness values are used for recombination, limiting the exploration of the solution space and leading to early convergence. However, by utilizing tournament selection with sufficient selection pressure, this issue is mitigated as the selection process becomes less dependent on fitness values, resulting in a slower convergence towards the optimal solution.\n",
    "\n",
    "Furthermore, it is interesting to see that the third algorithm manages to escape local optima and find the best solution thanks to its ability to preserve diversity within the population. For instance looking at algorithm 13 and 33 it is clear that the optimal combination of parameters maintains higher diversity troughout all generations in most of the runs."
   ]
  },
  {
   "cell_type": "code",
   "execution_count": 18,
   "id": "4729b147",
   "metadata": {},
   "outputs": [
    {
     "name": "stdout",
     "output_type": "stream",
     "text": [
      "0 {0: 5, 1: 2, 2: 2, 3: 5, 4: 3, 5: 3, 6: 2, 7: 3, 8: 2, 9: 3}\n",
      "1 {0: 3, 1: 1, 2: 3, 3: 2, 4: 5, 5: 3, 6: 2, 7: 1, 8: 1, 9: 3}\n",
      "2 {0: 3, 1: 3, 2: 2, 3: 2, 4: 4, 5: 2, 6: 2, 7: 4, 8: 3, 9: 4}\n",
      "3 {0: 3, 1: 2, 2: 2, 3: 2, 4: 1, 5: 2, 6: 1, 7: 4, 8: 3, 9: 2}\n",
      "4 {0: 2, 1: 3, 2: 4, 3: 6, 4: 1, 5: 1, 6: 3, 7: 2, 8: 2, 9: 2}\n",
      "5 {0: 1, 1: 2, 2: 4, 3: 3, 4: 3, 5: 4, 6: 2, 7: 2, 8: 2, 9: 2}\n",
      "6 {0: 2, 1: 4, 2: 3, 3: 2, 4: 3, 5: 1, 6: 2, 7: 2, 8: 3, 9: 6}\n",
      "7 {0: 3, 1: 1, 2: 3, 3: 4, 4: 4, 5: 2, 6: 5, 7: 3, 8: 3, 9: 4}\n",
      "8 {0: 7, 1: 2, 2: 3, 3: 2, 4: 5, 5: 2, 6: 2, 7: 2, 8: 2, 9: 3}\n",
      "9 {0: 1, 1: 1, 2: 2, 3: 1, 4: 3, 5: 1, 6: 3, 7: 2, 8: 2, 9: 2}\n",
      "\n",
      "\n",
      "0 {0: 5, 1: 5, 2: 4, 3: 7, 4: 6, 5: 7, 6: 9, 7: 9, 8: 7, 9: 7}\n",
      "1 {0: 5, 1: 9, 2: 7, 3: 4, 4: 4, 5: 10, 6: 7, 7: 9, 8: 7, 9: 8}\n",
      "2 {0: 5, 1: 8, 2: 10, 3: 7, 4: 8, 5: 6, 6: 9, 7: 8, 8: 8, 9: 5}\n",
      "3 {0: 8, 1: 6, 2: 6, 3: 9, 4: 8, 5: 7, 6: 5, 7: 8, 8: 9, 9: 7}\n",
      "4 {0: 7, 1: 9, 2: 6, 3: 7, 4: 5, 5: 7, 6: 6, 7: 5, 8: 10, 9: 10}\n",
      "5 {0: 9, 1: 9, 2: 10, 3: 8, 4: 6, 5: 7, 6: 8, 7: 5, 8: 8, 9: 6}\n",
      "6 {0: 10, 1: 8, 2: 9, 3: 9, 4: 6, 5: 6, 6: 8, 7: 9, 8: 4, 9: 8}\n",
      "7 {0: 4, 1: 2, 2: 4, 3: 7, 4: 5, 5: 8, 6: 9, 7: 8, 8: 9, 9: 9}\n",
      "8 {0: 8, 1: 5, 2: 10, 3: 2, 4: 8, 5: 4, 6: 6, 7: 8, 8: 8, 9: 8}\n",
      "9 {0: 3, 1: 5, 2: 6, 3: 9, 4: 9, 5: 8, 6: 9, 7: 7, 8: 4, 9: 9}\n"
     ]
    }
   ],
   "source": [
    "for i in range(len(div13)):\n",
    "    print(i, div13[i])\n",
    "print('\\n')\n",
    "for i in range(len(div33)):\n",
    "    print(i, div33[i])"
   ]
  },
  {
   "attachments": {
    "image.png": {
     "image/png": "[encoded data removed]"
    }
   },
   "cell_type": "markdown",
   "id": "5bb37e49",
   "metadata": {},
   "source": [
    "The best result obtained (success rate almost 100%) is:\n",
    "![image.png](attachment:image.png)"
   ]
  },
  {
   "cell_type": "markdown",
   "id": "6ddbedb8",
   "metadata": {},
   "source": [
    "The optimality of this choice of parameters is not restricted to one specific problem instance. As shown in the following code the algorithm consitently finds solutions, in the majority of cases, with different price tables."
   ]
  },
  {
   "cell_type": "code",
   "execution_count": 19,
   "id": "c2009514",
   "metadata": {},
   "outputs": [
    {
     "name": "stdout",
     "output_type": "stream",
     "text": [
      "Table: {1: 1, 2: 2, 3: 3, 4: 4, 5: 5, 6: 7, 7: 8, 8: 9, 9: 10, 10: 10, 11: 11, 12: 12, 13: 13, 14: 14, 15: 17, 16: 17, 17: 18, 18: 20, 19: 21, 20: 20, 21: 23, 22: 22, 23: 25, 24: 24, 25: 27, 26: 26, 27: 29, 28: 28, 29: 29}\n",
      "Optimal revenue: 33 optimal cut: [1, 1, 1, 1, 1, 6, 6, 6, 6]\n",
      "[33, 33, 33, 33, 33, 33, 33, 33, 33, 33]\n",
      "Success rate: 100.0 \n",
      "\n",
      "Table: {1: 1, 2: 2, 3: 3, 4: 5, 5: 6, 6: 6, 7: 8, 8: 8, 9: 10, 10: 11, 11: 11, 12: 14, 13: 14, 14: 14, 15: 16, 16: 18, 17: 18, 18: 19, 19: 19, 20: 21, 21: 23, 22: 24, 23: 25, 24: 26, 25: 25, 26: 27, 27: 27, 28: 29, 29: 30}\n",
      "Optimal revenue: 36 optimal cut: [1, 4, 4, 4, 4, 4, 4, 4]\n",
      "[35, 35, 35, 34, 36, 36, 34, 35, 35, 35]\n",
      "Success rate: 20.0 \n",
      "\n",
      "Table: {1: 1, 2: 2, 3: 3, 4: 4, 5: 6, 6: 6, 7: 8, 8: 9, 9: 9, 10: 11, 11: 11, 12: 14, 13: 14, 14: 15, 15: 15, 16: 18, 17: 17, 18: 19, 19: 19, 20: 21, 21: 21, 22: 23, 23: 24, 24: 24, 25: 27, 26: 28, 27: 27, 28: 28, 29: 29}\n",
      "Optimal revenue: 34 optimal cut: [1, 1, 1, 1, 5, 5, 5, 5, 5]\n",
      "[34, 34, 34, 34, 34, 34, 34, 34, 34, 34]\n",
      "Success rate: 100.0 \n",
      "\n",
      "Table: {1: 1, 2: 2, 3: 3, 4: 4, 5: 5, 6: 6, 7: 8, 8: 8, 9: 10, 10: 11, 11: 11, 12: 12, 13: 15, 14: 15, 15: 16, 16: 18, 17: 18, 18: 18, 19: 20, 20: 20, 21: 21, 22: 23, 23: 23, 24: 25, 25: 26, 26: 28, 27: 27, 28: 28, 29: 30}\n",
      "Optimal revenue: 33 optimal cut: [1, 1, 1, 13, 13]\n",
      "[33, 33, 33, 33, 33, 33, 33, 33, 33, 33]\n",
      "Success rate: 100.0 \n",
      "\n",
      "Table: {1: 1, 2: 2, 3: 3, 4: 4, 5: 6, 6: 7, 7: 8, 8: 9, 9: 9, 10: 11, 11: 12, 12: 14, 13: 15, 14: 14, 15: 17, 16: 17, 17: 17, 18: 20, 19: 19, 20: 22, 21: 22, 22: 24, 23: 24, 24: 25, 25: 25, 26: 27, 27: 29, 28: 28, 29: 29}\n",
      "Optimal revenue: 34 optimal cut: [1, 1, 1, 1, 5, 5, 5, 5, 5]\n",
      "[34, 34, 34, 34, 34, 34, 34, 34, 34, 34]\n",
      "Success rate: 100.0 \n",
      "\n",
      "Table: {1: 1, 2: 2, 3: 3, 4: 4, 5: 6, 6: 7, 7: 8, 8: 8, 9: 9, 10: 11, 11: 12, 12: 12, 13: 14, 14: 14, 15: 17, 16: 18, 17: 19, 18: 20, 19: 19, 20: 20, 21: 21, 22: 22, 23: 23, 24: 25, 25: 26, 26: 26, 27: 28, 28: 28, 29: 30}\n",
      "Optimal revenue: 34 optimal cut: [1, 1, 1, 1, 5, 5, 5, 5, 5]\n",
      "[33, 33, 33, 34, 34, 34, 33, 33, 33, 33]\n",
      "Success rate: 30.0 \n",
      "\n",
      "Table: {1: 1, 2: 2, 3: 3, 4: 4, 5: 5, 6: 7, 7: 7, 8: 8, 9: 9, 10: 11, 11: 12, 12: 12, 13: 14, 14: 15, 15: 16, 16: 16, 17: 17, 18: 20, 19: 21, 20: 20, 21: 23, 22: 24, 23: 25, 24: 26, 25: 25, 26: 26, 27: 29, 28: 30, 29: 31}\n",
      "Optimal revenue: 33 optimal cut: [1, 1, 1, 1, 1, 6, 6, 6, 6]\n",
      "[32, 32, 32, 32, 32, 32, 32, 32, 32, 33]\n",
      "Success rate: 10.0 \n",
      "\n",
      "Table: {1: 1, 2: 2, 3: 3, 4: 4, 5: 6, 6: 7, 7: 8, 8: 9, 9: 10, 10: 10, 11: 12, 12: 12, 13: 15, 14: 14, 15: 17, 16: 16, 17: 17, 18: 20, 19: 19, 20: 20, 21: 23, 22: 22, 23: 23, 24: 24, 25: 26, 26: 27, 27: 27, 28: 29, 29: 31}\n",
      "Optimal revenue: 34 optimal cut: [1, 1, 1, 1, 5, 5, 5, 5, 5]\n",
      "[34, 34, 34, 34, 34, 34, 34, 34, 34, 34]\n",
      "Success rate: 100.0 \n",
      "\n"
     ]
    }
   ],
   "source": [
    "times = 8\n",
    "for x in range(times):\n",
    "    table_3 = {}\n",
    "    for i in range(1, 30):\n",
    "        table_3[i] = i\n",
    "        if np.random.rand()<(0.5*i):\n",
    "            table_3[i] = np.random.randint(i, np.round(i+np.log(i+1)))\n",
    "\n",
    "    res, res_fit, gen, div= trial(nruns,\n",
    "                        table = table_3, \n",
    "                        rep = Rod_2, \n",
    "                        function = fitness_2, \n",
    "                        selection = tournament_selection,\n",
    "                        mutation = simple_mutation_2, \n",
    "                        crossover= one_point_crossover_2,\n",
    "                        init = 'nrandom',\n",
    "                        k = 4,\n",
    "                        mr = 0.3,\n",
    "                        cr = 0.5)\n",
    "    \n",
    "    prices = list(table_3.values())\n",
    "    prices_2 = np.array([0] + prices)\n",
    "    n = len(prices)\n",
    "    rod_cut = rod_cutting(n, prices_2)\n",
    "    \n",
    "    sr = np.sum(np.array(res_fit)==rod_cut[0])/nruns * 100\n",
    "    \n",
    "    print('Table:', table_3)\n",
    "    print('Optimal revenue:',  rod_cut[0], 'optimal cut:', rod_cut[1])\n",
    "    print(res_fit)\n",
    "    print('Success rate:', sr, '\\n')"
   ]
  }
 ],
 "metadata": {
  "kernelspec": {
   "display_name": "Python 3 (ipykernel)",
   "language": "python",
   "name": "python3"
  },
  "language_info": {
   "codemirror_mode": {
    "name": "ipython",
    "version": 3
   },
   "file_extension": ".py",
   "mimetype": "text/x-python",
   "name": "python",
   "nbconvert_exporter": "python",
   "pygments_lexer": "ipython3",
   "version": "3.11.5"
  }
 },
 "nbformat": 4,
 "nbformat_minor": 5
}
